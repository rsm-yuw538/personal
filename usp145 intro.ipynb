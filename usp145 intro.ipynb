{
 "cells": [
  {
   "cell_type": "markdown",
   "metadata": {},
   "source": [
    "## About Charlotte and Her Office Hour"
   ]
  },
  {
   "cell_type": "markdown",
   "metadata": {},
   "source": [
    "<img src=\"IMG_0715_2.jpg\" width=\"180\" height=\"180\">\n"
   ]
  },
  {
   "cell_type": "markdown",
   "metadata": {},
   "source": [
    "Hello everyone! Welcome to the spring quarter and USP 145 class. My name is Charlotte, and I am a TA for this course.  \n",
    "\n",
    "I’m currently pursuing my Master's degree in Business Analytics at Rady School of Management. My background is primarily STEM-related: I earned my undergraduate degree in Mathematics with a minor in Real Estate Development (RED) from UCSD. After that, I worked in the commercial real estate industry for three years as a Senior Consultant before returning to school for advanced studies. My expertise mainly lies in feasibility studies, market analysis, and financial modeling for various types of commercial development as well as in urban renewal projects.  \n",
    "\n",
    "My office hours will be on **Thursdays from 4-5 PM, at the [Social Sciences Public Engagement Building](https://www.google.com/maps/place/Social+Sciences+Public+Engagement+Building/@32.8806867,-117.2436734,17z/data=!4m14!1m7!3m6!1s0x80dc075d1f3bfab5:0xb26a159ac87c3e84!2sSocial+Sciences+Public+Engagement+Building!8m2!3d32.8806822!4d-117.2410985!16s%2Fg%2F11pzf0zx0m!3m5!1s0x80dc075d1f3bfab5:0xb26a159ac87c3e84!8m2!3d32.8806822!4d-117.2410985!16s%2Fg%2F11pzf0zx0m?entry=ttu)\n",
    ", room PEB227** (located in Sixth College. You may need to take the elevator to the 3rd floor, enter the USP department, and then use the stairs to go down to the office). If you are unable to attend in person and would like to discuss anything regarding this course, you can also reach me via email at yuw538@ucsd.edu, and we can schedule a short Zoom call.  \n",
    "\n",
    "I believe this course will be an exciting learning journey for both you and me. Looking forward to meeting you all!  "
   ]
  }
 ],
 "metadata": {
  "kernelspec": {
   "display_name": "base",
   "language": "python",
   "name": "python3"
  },
  "language_info": {
   "name": "python",
   "version": "3.11.7"
  },
  "orig_nbformat": 4
 },
 "nbformat": 4,
 "nbformat_minor": 2
}
